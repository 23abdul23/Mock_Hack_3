{
 "cells": [
  {
   "cell_type": "code",
   "execution_count": 36,
   "id": "0dc35651",
   "metadata": {},
   "outputs": [],
   "source": [
    "from bs4 import BeautifulSoup\n",
    "import requests, re\n",
    "from consts import *\n",
    "\n",
    "from user import *\n",
    "import google.generativeai as genai\n",
    "from dotenv import load_dotenv\n",
    "import os, re, json\n",
    "from langchain_groq import ChatGroq\n",
    "from langchain_core.messages import HumanMessage, SystemMessage\n",
    "\n",
    "\n",
    "load_dotenv()\n",
    "\n",
    "\n",
    "MODEL = \"llama-3.1-8b-instant\"\n",
    "llm = ChatGroq(model=MODEL, temperature=0 , api_key= os.environ.get(\"GROQ_API_KEY\"))"
   ]
  },
  {
   "cell_type": "code",
   "execution_count": 75,
   "id": "6480e909",
   "metadata": {},
   "outputs": [],
   "source": [
    "def change_date(ini_date):\n",
    "    l = ini_date.split('-')\n",
    "    l = l[::-1]\n",
    "\n",
    "    a = '/'.join(l)\n",
    "    return a\n",
    "\n",
    "origin_k = \"mumbai\"\n",
    "dest_k = \"hyderabad\"\n",
    "\n",
    "origin_mmt = \"\"\n",
    "dest_mmt = \"\"\n",
    "\n",
    "departure = \"2025-07-31\"\n",
    "back = \"2025-08-20\""
   ]
  },
  {
   "cell_type": "code",
   "execution_count": 76,
   "id": "e12cb63f",
   "metadata": {},
   "outputs": [],
   "source": [
    "mmt = f\"https://www.makemytrip.com/flight/search?tripType=R&itinerary={airports[origin_k.title()]}-{airports[dest_k.title()]}-{change_date(departure)}_{airports[dest_k.title()]}-{airports[origin_k.title()]}-{change_date(back)}&paxType=A-1_C-0_I-0&cabinClass=E\"\n",
    "\n",
    "url = f\"https://www.tripozo.com/flight/results?adult=1&child=0&class=1&destination={airports[dest_k.title()]}&fareType=Regular&from={departure}&infant=0&origin={airports[origin_k.title()]}&tripType=oneWay\""
   ]
  },
  {
   "cell_type": "code",
   "execution_count": 77,
   "id": "60180332",
   "metadata": {},
   "outputs": [
    {
     "data": {
      "text/plain": [
       "'https://www.makemytrip.com/flight/search?tripType=R&itinerary=BOM-HYD-31/07/2025_HYD-BOM-20/08/2025&paxType=A-1_C-0_I-0&cabinClass=E'"
      ]
     },
     "execution_count": 77,
     "metadata": {},
     "output_type": "execute_result"
    }
   ],
   "source": [
    "mmt"
   ]
  },
  {
   "cell_type": "code",
   "execution_count": 58,
   "id": "a2ec4805",
   "metadata": {},
   "outputs": [],
   "source": [
    "soup = ''\n",
    "with open(\"url.html\", \"r\", encoding='utf-8') as f:\n",
    "    #print(f.read())\n",
    "    soup = BeautifulSoup(f.read(), 'html.parser')\n",
    "\n",
    "\n",
    "\n",
    "\n"
   ]
  },
  {
   "cell_type": "code",
   "execution_count": null,
   "id": "133da06b",
   "metadata": {},
   "outputs": [],
   "source": [
    "flights = soup.find_all(\"div\", class_ = \"ant-card-body\")\n",
    "price = soup.find_all(\"div\", class_ = \"flight-price-number\")\n",
    "airline = soup.find_all(\"div\", class_ = \"airline-name\")\n",
    "fromCity = soup.find_all(\"div\", class_ = \"from-airport\")\n",
    "duration = soup.find_all(\"div\", class_ = \"f-hvcenter fl-duration\")\n",
    "toCity = soup.find_all(\"div\", class_ = \"to-airport\")\n",
    "\n",
    "result = {}\n",
    "\n",
    "for i in range(len(price)):\n",
    "    temp = {}\n",
    "    plane = airline[i].get_text(strip=True) \n",
    "\n",
    "    from_airport = fromCity[i]\n",
    "    codes = from_airport.find_all(\"div\", class_=\"code\")\n",
    "    airport_code = codes[0].get_text(strip=True)\n",
    "\n",
    "    # Extract time and city\n",
    "    time = from_airport.find(\"div\", class_=\"time\").get_text(strip=True)\n",
    "    city = from_airport.find(\"div\", class_=\"name\").get_text(strip=True)\n",
    "\n",
    "    match = re.search(r\"₹([\\d,]+)\", str(price[i]))\n",
    "    p = 0\n",
    "    if match:\n",
    "        p = int(match.group(1).replace(\",\", \"\"))\n",
    "        \n",
    "    flighttime = duration[i].get_text(strip=True)\n",
    "\n",
    "    to_airport = toCity[i]\n",
    "    codes = to_airport.find_all(\"div\", class_=\"code\")\n",
    "    a_airport_code = codes[0].get_text(strip=True)\n",
    "\n",
    "    # Extract time and city\n",
    "    a_time = to_airport.find(\"div\", class_=\"time\").get_text(strip=True)\n",
    "    a_city = to_airport.find(\"div\", class_=\"name\").get_text(strip=True)\n",
    "\n",
    "    temp = {\n",
    "        \"date\" : departure,\n",
    "        \"departure_time\" : time,\n",
    "        \"departure\" : city,\n",
    "        \"from_airport\" : airport_code,\n",
    "        \"price\" : p,\n",
    "        \"airline\" : plane,\n",
    "        \"duration\" : flighttime,\n",
    "        \"to_airport\" : a_airport_code,\n",
    "        \"arrival_time\" : a_time,\n",
    "        \"arrival\" : a_city,\n",
    "        \"arrival_time\" : a_time,\n",
    "        \"link\" : url\n",
    "    }\n",
    "\n",
    "    result[i] = temp\n",
    "\n",
    "\n"
   ]
  },
  {
   "cell_type": "code",
   "execution_count": 33,
   "id": "2cff54cd",
   "metadata": {},
   "outputs": [],
   "source": [
    "import pandas as pd\n",
    "import re"
   ]
  },
  {
   "cell_type": "code",
   "execution_count": null,
   "id": "d03ebebf",
   "metadata": {},
   "outputs": [],
   "source": [
    "def duration_to_minutes(duration_str):\n",
    "    h, m = 0, 0\n",
    "    if 'h' in duration_str:\n",
    "        h = int(re.search(r'(\\d+)h', duration_str).group(1))\n",
    "    if 'min' in duration_str:\n",
    "        m_match = re.search(r'(\\d+)min', duration_str)\n",
    "        if m_match:\n",
    "            m = int(m_match.group(1))\n",
    "    return h * 60 + m\n",
    "\n",
    "def final_json():\n",
    "    df = pd.read_json('data.json')\n",
    "    df = df.T\n",
    "    df['duration_min'] = df['duration'].apply(duration_to_minutes)\n",
    "    df_sorted = df.sort_values(by=['from_airport', 'price', 'duration_min'], ascending=[True, True, True])\n",
    "    top_flights = df_sorted.groupby('from_airport').head(4).reset_index(drop=True)\n",
    "    top_flights = top_flights.drop(columns=['duration_min'])\n",
    "    df = top_flights.T\n",
    "\n",
    "    df.to_json('okay.json')\n",
    "    \n"
   ]
  },
  {
   "cell_type": "code",
   "execution_count": null,
   "id": "d9bb782d",
   "metadata": {},
   "outputs": [],
   "source": []
  },
  {
   "cell_type": "code",
   "execution_count": null,
   "id": "7c127a9d",
   "metadata": {},
   "outputs": [
    {
     "ename": "JSONDecodeError",
     "evalue": "Extra data: line 1 column 70 (char 69)",
     "output_type": "error",
     "traceback": [
      "\u001b[1;31m---------------------------------------------------------------------------\u001b[0m",
      "\u001b[1;31mJSONDecodeError\u001b[0m                           Traceback (most recent call last)",
      "Cell \u001b[1;32mIn[53], line 3\u001b[0m\n\u001b[0;32m      1\u001b[0m \u001b[38;5;28;01mimport\u001b[39;00m \u001b[38;5;21;01mjson\u001b[39;00m\n\u001b[1;32m----> 3\u001b[0m b \u001b[38;5;241m=\u001b[39m \u001b[43mjson\u001b[49m\u001b[38;5;241;43m.\u001b[39;49m\u001b[43mloads\u001b[49m\u001b[43m(\u001b[49m\u001b[43ma\u001b[49m\u001b[43m)\u001b[49m\n",
      "File \u001b[1;32mc:\\Users\\Azeem\\AppData\\Local\\Programs\\Python\\Python311\\Lib\\json\\__init__.py:346\u001b[0m, in \u001b[0;36mloads\u001b[1;34m(s, cls, object_hook, parse_float, parse_int, parse_constant, object_pairs_hook, **kw)\u001b[0m\n\u001b[0;32m    341\u001b[0m     s \u001b[38;5;241m=\u001b[39m s\u001b[38;5;241m.\u001b[39mdecode(detect_encoding(s), \u001b[38;5;124m'\u001b[39m\u001b[38;5;124msurrogatepass\u001b[39m\u001b[38;5;124m'\u001b[39m)\n\u001b[0;32m    343\u001b[0m \u001b[38;5;28;01mif\u001b[39;00m (\u001b[38;5;28mcls\u001b[39m \u001b[38;5;129;01mis\u001b[39;00m \u001b[38;5;28;01mNone\u001b[39;00m \u001b[38;5;129;01mand\u001b[39;00m object_hook \u001b[38;5;129;01mis\u001b[39;00m \u001b[38;5;28;01mNone\u001b[39;00m \u001b[38;5;129;01mand\u001b[39;00m\n\u001b[0;32m    344\u001b[0m         parse_int \u001b[38;5;129;01mis\u001b[39;00m \u001b[38;5;28;01mNone\u001b[39;00m \u001b[38;5;129;01mand\u001b[39;00m parse_float \u001b[38;5;129;01mis\u001b[39;00m \u001b[38;5;28;01mNone\u001b[39;00m \u001b[38;5;129;01mand\u001b[39;00m\n\u001b[0;32m    345\u001b[0m         parse_constant \u001b[38;5;129;01mis\u001b[39;00m \u001b[38;5;28;01mNone\u001b[39;00m \u001b[38;5;129;01mand\u001b[39;00m object_pairs_hook \u001b[38;5;129;01mis\u001b[39;00m \u001b[38;5;28;01mNone\u001b[39;00m \u001b[38;5;129;01mand\u001b[39;00m \u001b[38;5;129;01mnot\u001b[39;00m kw):\n\u001b[1;32m--> 346\u001b[0m     \u001b[38;5;28;01mreturn\u001b[39;00m \u001b[43m_default_decoder\u001b[49m\u001b[38;5;241;43m.\u001b[39;49m\u001b[43mdecode\u001b[49m\u001b[43m(\u001b[49m\u001b[43ms\u001b[49m\u001b[43m)\u001b[49m\n\u001b[0;32m    347\u001b[0m \u001b[38;5;28;01mif\u001b[39;00m \u001b[38;5;28mcls\u001b[39m \u001b[38;5;129;01mis\u001b[39;00m \u001b[38;5;28;01mNone\u001b[39;00m:\n\u001b[0;32m    348\u001b[0m     \u001b[38;5;28mcls\u001b[39m \u001b[38;5;241m=\u001b[39m JSONDecoder\n",
      "File \u001b[1;32mc:\\Users\\Azeem\\AppData\\Local\\Programs\\Python\\Python311\\Lib\\json\\decoder.py:340\u001b[0m, in \u001b[0;36mJSONDecoder.decode\u001b[1;34m(self, s, _w)\u001b[0m\n\u001b[0;32m    338\u001b[0m end \u001b[38;5;241m=\u001b[39m _w(s, end)\u001b[38;5;241m.\u001b[39mend()\n\u001b[0;32m    339\u001b[0m \u001b[38;5;28;01mif\u001b[39;00m end \u001b[38;5;241m!=\u001b[39m \u001b[38;5;28mlen\u001b[39m(s):\n\u001b[1;32m--> 340\u001b[0m     \u001b[38;5;28;01mraise\u001b[39;00m JSONDecodeError(\u001b[38;5;124m\"\u001b[39m\u001b[38;5;124mExtra data\u001b[39m\u001b[38;5;124m\"\u001b[39m, s, end)\n\u001b[0;32m    341\u001b[0m \u001b[38;5;28;01mreturn\u001b[39;00m obj\n",
      "\u001b[1;31mJSONDecodeError\u001b[0m: Extra data: line 1 column 70 (char 69)"
     ]
    }
   ],
   "source": []
  },
  {
   "cell_type": "code",
   "execution_count": null,
   "id": "fec1d6b7",
   "metadata": {},
   "outputs": [],
   "source": []
  },
  {
   "cell_type": "code",
   "execution_count": null,
   "id": "25551c67",
   "metadata": {},
   "outputs": [
    {
     "data": {
      "text/plain": [
       "'{\"0\":\"2025-08-15\",\"1\":\"2025-08-15\",\"2\":\"2025-08-15\",\"3\":\"2025-08-15\"},{\"0\":\"07:40\",\"1\":\"06:00\",\"2\":\"22:30\",\"3\":\"03:00\"},{\"0\":\"Mumbai\",\"1\":\"Mumbai\",\"2\":\"Mumbai\",\"3\":\"Mumbai\"},{\"0\":\"BOM\",\"1\":\"BOM\",\"2\":\"BOM\",\"3\":\"BOM\"},{\"0\":3833,\"1\":4970,\"2\":4970,\"3\":4970},{\"0\":\"Indigo\",\"1\":\"Indigo\",\"2\":\"Indigo\",\"3\":\"Indigo\"},{\"0\":\"2h 0min\",\"1\":\"Non-Stop\",\"2\":\"Non-Stop\",\"3\":\"1h 55min\"},{\"0\":\"HDO\",\"1\":\"DEL\",\"2\":\"DEL\",\"3\":\"DEL\"},{\"0\":\"09:40\",\"1\":\"07:55\",\"2\":\"00:45\",\"3\":\"05:15\"},{\"0\":\"Ghaziabad\",\"1\":\"Delhi\",\"2\":\"Delhi\",\"3\":\"Delhi\"},{\"0\":\"https:\\\\/\\\\/www.tripozo.com\\\\/flight\\\\/results?adult=1&child=0&class=1&destination=DEL&fareType=Regular&from=2025-08-15&infant=0&origin=BOM&tripType=oneWay\",\"1\":\"https:\\\\/\\\\/www.tripozo.com\\\\/flight\\\\/results?adult=1&child=0&class=1&destination=DEL&fareType=Regular&from=2025-08-15&infant=0&origin=BOM&tripType=oneWay\",\"2\":\"https:\\\\/\\\\/www.tripozo.com\\\\/flight\\\\/results?adult=1&child=0&class=1&destination=DEL&fareType=Regular&from=2025-08-15&infant=0&origin=BOM&tripType=oneWay\",\"3\":\"https:\\\\/\\\\/www.tripozo.com\\\\/flight\\\\/results?adult=1&child=0&class=1&destination=DEL&fareType=Regular&from=2025-08-15&infant=0&origin=BOM&tripType=oneWay\"}'"
      ]
     },
     "execution_count": 45,
     "metadata": {},
     "output_type": "execute_result"
    }
   ],
   "source": [
    "\n",
    "\n",
    "a"
   ]
  },
  {
   "cell_type": "code",
   "execution_count": null,
   "id": "f98fc158",
   "metadata": {},
   "outputs": [],
   "source": []
  }
 ],
 "metadata": {
  "kernelspec": {
   "display_name": "Python 3",
   "language": "python",
   "name": "python3"
  },
  "language_info": {
   "codemirror_mode": {
    "name": "ipython",
    "version": 3
   },
   "file_extension": ".py",
   "mimetype": "text/x-python",
   "name": "python",
   "nbconvert_exporter": "python",
   "pygments_lexer": "ipython3",
   "version": "3.11.3"
  }
 },
 "nbformat": 4,
 "nbformat_minor": 5
}
