{
 "cells": [
  {
   "cell_type": "code",
   "execution_count": 1,
   "id": "735af23f",
   "metadata": {},
   "outputs": [],
   "source": [
    "import requests\n",
    "import selenium\n",
    "import random\n",
    "from bs4 import BeautifulSoup\n",
    "from consts import *"
   ]
  },
  {
   "cell_type": "code",
   "execution_count": 2,
   "id": "88f86ca7",
   "metadata": {},
   "outputs": [],
   "source": [
    "def change_date(ini_date):\n",
    "    l = ini_date.split('-')\n",
    "    l = l[::-1]\n",
    "\n",
    "    a = '/'.join(l)\n",
    "    return a\n"
   ]
  },
  {
   "cell_type": "code",
   "execution_count": 3,
   "id": "7d743a7c",
   "metadata": {},
   "outputs": [],
   "source": [
    "source_k = \"mumbai\"\n",
    "dest_k = \"agra\"\n",
    "\n",
    "source_mmt = \"\"\n",
    "dest_mmt = \"\"\n",
    "\n",
    "departure = \"2025-07-31\"\n",
    "back = \"2025-08-20\"\n",
    "\n",
    "kiwi  = f\"https://www.kiwi.com/en/search/results/{source_k.lower()}-india/{dest_k.lower()}-india/{departure}/{back}\"\n",
    "mmt = f\"https://www.makemytrip.com/flight/search?tripType=R&itinerary={airports[source_k.title()]}-{airports[dest_k.title()]}-{change_date(departure)}_{airports[dest_k.title()]}-{airports[source_k.title()]}-{change_date(back)}&paxType=A-1_C-0_I-0&cabinClass=E&sTime=1751957405649&forwardFlowRequired=true&mpo=&semType=&intl=false\""
   ]
  },
  {
   "cell_type": "code",
   "execution_count": 6,
   "id": "25e15eff",
   "metadata": {},
   "outputs": [
    {
     "data": {
      "text/plain": [
       "'https://www.kiwi.com/en/search/results/mumbai-india/agra-india/2025-07-31/2025-08-20'"
      ]
     },
     "execution_count": 6,
     "metadata": {},
     "output_type": "execute_result"
    }
   ],
   "source": [
    "kiwi"
   ]
  },
  {
   "cell_type": "code",
   "execution_count": 5,
   "id": "f647d2b0",
   "metadata": {},
   "outputs": [
    {
     "ename": "ModuleNotFoundError",
     "evalue": "No module named 'playwright'",
     "output_type": "error",
     "traceback": [
      "\u001b[0;31m---------------------------------------------------------------------------\u001b[0m",
      "\u001b[0;31mModuleNotFoundError\u001b[0m                       Traceback (most recent call last)",
      "Cell \u001b[0;32mIn[5], line 1\u001b[0m\n\u001b[0;32m----> 1\u001b[0m \u001b[38;5;28;01mfrom\u001b[39;00m\u001b[38;5;250m \u001b[39m\u001b[38;5;21;01mplaywright\u001b[39;00m\u001b[38;5;21;01m.\u001b[39;00m\u001b[38;5;21;01msync_api\u001b[39;00m\u001b[38;5;250m \u001b[39m\u001b[38;5;28;01mimport\u001b[39;00m sync_playwright\n\u001b[1;32m      3\u001b[0m \u001b[38;5;28;01mwith\u001b[39;00m sync_playwright() \u001b[38;5;28;01mas\u001b[39;00m p:\n\u001b[1;32m      4\u001b[0m     browser \u001b[38;5;241m=\u001b[39m p\u001b[38;5;241m.\u001b[39mchromium\u001b[38;5;241m.\u001b[39mlaunch(headless\u001b[38;5;241m=\u001b[39m\u001b[38;5;28;01mTrue\u001b[39;00m)\n",
      "\u001b[0;31mModuleNotFoundError\u001b[0m: No module named 'playwright'"
     ]
    }
   ],
   "source": [
    "from playwright.sync_api import sync_playwright\n",
    "\n",
    "with sync_playwright() as p:\n",
    "    browser = p.chromium.launch(headless=True)\n",
    "    page = browser.new_page()\n",
    "    page.goto(kiwi)\n",
    "    page.wait_for_timeout(5000)  # wait for JS challenge\n",
    "    print(page.title())\n",
    "    print(page.content())\n",
    "    browser.close()\n"
   ]
  }
 ],
 "metadata": {
  "kernelspec": {
   "display_name": "anr",
   "language": "python",
   "name": "python3"
  },
  "language_info": {
   "codemirror_mode": {
    "name": "ipython",
    "version": 3
   },
   "file_extension": ".py",
   "mimetype": "text/x-python",
   "name": "python",
   "nbconvert_exporter": "python",
   "pygments_lexer": "ipython3",
   "version": "3.10.18"
  }
 },
 "nbformat": 4,
 "nbformat_minor": 5
}
