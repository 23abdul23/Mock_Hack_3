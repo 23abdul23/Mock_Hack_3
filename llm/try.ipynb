{
 "cells": [
  {
   "cell_type": "code",
   "execution_count": 9,
   "id": "735af23f",
   "metadata": {},
   "outputs": [],
   "source": [
    "import requests\n",
    "import selenium\n",
    "import random\n",
    "from bs4 import BeautifulSoup\n",
    "from consts import *"
   ]
  },
  {
   "cell_type": "code",
   "execution_count": 2,
   "id": "88f86ca7",
   "metadata": {},
   "outputs": [],
   "source": [
    "def change_date(ini_date):\n",
    "    l = ini_date.split('-')\n",
    "    l = l[::-1]\n",
    "\n",
    "    a = '/'.join(l)\n",
    "    return a\n"
   ]
  },
  {
   "cell_type": "code",
   "execution_count": 6,
   "id": "7d743a7c",
   "metadata": {},
   "outputs": [],
   "source": [
    "source_k = \"mumbai\"\n",
    "dest_k = \"agra\"\n",
    "\n",
    "source_mmt = \"\"\n",
    "dest_mmt = \"\"\n",
    "\n",
    "departure = \"2025-07-31\"\n",
    "back = \"2025-08-20\"\n",
    "\n",
    "kiwi  = f\"https://www.kiwi.com/en/search/results/{source_k.lower()}-india/{dest_k.lower()}-india/{departure}/{back}\"\n",
    "mmt = f\"https://www.makemytrip.com/flight/search?tripType=R&itinerary={airports[source_k.title()]}-{airports[dest_k.title()]}-{change_date(departure)}_{airports[dest_k.title()]}-{airports[source_k.title()]}-{change_date(back)}&paxType=A-1_C-0_I-0&cabinClass=E&sTime=1751957405649&forwardFlowRequired=true&mpo=&semType=&intl=false\""
   ]
  },
  {
   "cell_type": "code",
   "execution_count": 12,
   "id": "25e15eff",
   "metadata": {},
   "outputs": [
    {
     "data": {
      "text/plain": [
       "'https://www.makemytrip.com/flight/search?tripType=R&itinerary=BOM-AGR-31/07/2025_AGR-BOM-20/08/2025&paxType=A-1_C-0_I-0&cabinClass=E&sTime=1751957405649&forwardFlowRequired=true&mpo=&semType=&intl=false'"
      ]
     },
     "execution_count": 12,
     "metadata": {},
     "output_type": "execute_result"
    }
   ],
   "source": [
    "mmt"
   ]
  },
  {
   "cell_type": "code",
   "execution_count": null,
   "id": "f647d2b0",
   "metadata": {},
   "outputs": [],
   "source": [
    "from playwright.sync_api import sync_playwright\n",
    "\n",
    "with sync_playwright() as p:\n",
    "    browser = p.chromium.launch(headless=True)\n",
    "    page = browser.new_page()\n",
    "    page.goto(kiwi)\n",
    "    page.wait_for_timeout(5000)  # wait for JS challenge\n",
    "    print(page.title())\n",
    "    print(page.content())\n",
    "    browser.close()\n"
   ]
  }
 ],
 "metadata": {
  "kernelspec": {
   "display_name": "Python 3",
   "language": "python",
   "name": "python3"
  },
  "language_info": {
   "codemirror_mode": {
    "name": "ipython",
    "version": 3
   },
   "file_extension": ".py",
   "mimetype": "text/x-python",
   "name": "python",
   "nbconvert_exporter": "python",
   "pygments_lexer": "ipython3",
   "version": "3.11.3"
  }
 },
 "nbformat": 4,
 "nbformat_minor": 5
}
